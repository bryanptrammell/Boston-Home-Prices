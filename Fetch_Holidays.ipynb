{
 "cells": [
  {
   "cell_type": "code",
   "execution_count": 2,
   "id": "2be3ecf9",
   "metadata": {},
   "outputs": [],
   "source": [
    "#Step 1) Write a Python script that fetches holiday data and saves it as a csv file named \"holidays.csv\". To obtain the data, you can either parse the API or screen scrape the Nager.Date site.\n",
    "import csv\n",
    "\n",
    "def fetch_holiday_data(country_code=\"US\", year=2023):\n",
    "    url = f\"https://date.nager.at/api/v3/publicholidays/{year}/{country_code}\"\n",
    "    response = requests.get(url)\n",
    "    return response.json()\n",
    "\n",
    "def save_to_csv(data):\n",
    "    with open(\"holidays.csv\", \"w\", newline=\"\") as f:\n",
    "        writer = csv.writer(f)\n",
    "        writer.writerow([\"name\", \"date\", \"type\", \"global\"])\n",
    "        for holiday in data:\n",
    "            writer.writerow([holiday[\"name\"], holiday[\"date\"], holiday.get(\"type\", \"\"), holiday[\"global\"]])\n",
    "\n",
    "if __name__ == \"__main__\":\n",
    "    data = fetch_holiday_data()\n",
    "    save_to_csv(data)\n"
   ]
  },
  {
   "cell_type": "code",
   "execution_count": 3,
   "id": "49345c60",
   "metadata": {},
   "outputs": [
    {
     "name": "stdout",
     "output_type": "stream",
     "text": [
      "[{'name': 'Columbus Day', 'date': '2023-10-09', 'type': '', 'global': 'False'}, {'name': 'Veterans Day', 'date': '2023-11-10', 'type': '', 'global': 'True'}, {'name': 'Thanksgiving Day', 'date': '2023-11-23', 'type': '', 'global': 'True'}, {'name': 'Christmas Day', 'date': '2023-12-25', 'type': '', 'global': 'True'}]\n"
     ]
    }
   ],
   "source": [
    "#Step 2 and 3- Using the csv file from 1), write a Python function that returns a list of dictionaries of the next 10 upcoming U.S. holidays and dates,\n",
    "import csv\n",
    "from datetime import datetime\n",
    "\n",
    "def get_next_10_holidays(global_filter=None):\n",
    "    with open(\"holidays.csv\", \"r\") as f:\n",
    "        reader = csv.DictReader(f)\n",
    "        holidays_list = [row for row in reader]\n",
    "\n",
    "    today = datetime.today().date()\n",
    "    upcoming_holidays = [h for h in holidays_list if datetime.strptime(h[\"date\"], '%Y-%m-%d').date() >= today]\n",
    "    \n",
    "    if global_filter is not None:\n",
    "        upcoming_holidays = [h for h in upcoming_holidays if h[\"global\"] == str(global_filter)]\n",
    "    \n",
    "    return upcoming_holidays[:10]\n",
    "\n",
    "# Test\n",
    "print(get_next_10_holidays())\n"
   ]
  },
  {
   "cell_type": "code",
   "execution_count": 4,
   "id": "7c1c0d6a",
   "metadata": {},
   "outputs": [
    {
     "name": "stdout",
     "output_type": "stream",
     "text": [
      "Failed to fetch data for country: IN\n",
      "[{'country': 'US', 'common_dates': 12}, {'country': 'CA', 'common_dates': 5}, {'country': 'CH', 'common_dates': 4}, {'country': 'ES', 'common_dates': 4}, {'country': 'GB', 'common_dates': 4}, {'country': 'BE', 'common_dates': 3}, {'country': 'BR', 'common_dates': 3}, {'country': 'CO', 'common_dates': 3}, {'country': 'DE', 'common_dates': 3}, {'country': 'DK', 'common_dates': 3}]\n"
     ]
    }
   ],
   "source": [
    "#Step 4 - Add an additional keyword argument \"comparison_country\" to the function from 3) such that it only returns holidays that share the same date of the comparison country.\n",
    "\n",
    "def fetch_holiday_data(country_code=\"US\", year=2023):\n",
    "    url = f\"https://date.nager.at/api/v3/publicholidays/{year}/{country_code}\"\n",
    "    response = requests.get(url)\n",
    "    if response.status_code != 200:\n",
    "        print(f\"Failed to fetch data for country: {country_code}\")\n",
    "        return []\n",
    "    try:\n",
    "        return response.json()\n",
    "    except JSONDecodeError:\n",
    "        print(f\"Failed to decode JSON for country: {country_code}\")\n",
    "        return []\n",
    "\n",
    "def most_common_countries(comparison_country=\"US\"):\n",
    "    current_year = datetime.now().year\n",
    "    comparison_holidays = fetch_holiday_data(country_code=comparison_country, year=current_year)\n",
    "    comparison_dates = {h[\"date\"] for h in comparison_holidays}\n",
    "\n",
    "    common_count = {}\n",
    "    countries = [\"AT\", \"BE\", \"BG\", \"BR\", \"CA\", \"CH\", \"CN\", \"CO\", \"CZ\", \"DE\", \"DK\", \"EE\", \"ES\", \"FI\", \"FR\", \"GB\", \"GR\", \"HR\", \"HU\", \"IE\", \"IN\", \"IT\", \"JP\", \"KR\", \"MX\", \"NL\", \"NO\", \"NZ\", \"PL\", \"PT\", \"RO\", \"RU\", \"SE\", \"SG\", \"SI\", \"SK\", \"ZA\", \"US\"]\n",
    "    for country in countries:\n",
    "        country_holidays = fetch_holiday_data(country_code=country, year=current_year)\n",
    "        common_dates = comparison_dates.intersection({h[\"date\"] for h in country_holidays if \"date\" in h})\n",
    "        common_count[country] = len(common_dates)\n",
    "\n",
    "    sorted_countries = sorted(common_count.items(), key=lambda x: x[1], reverse=True)[:10]\n",
    "    result = [{\"country\": k, \"common_dates\": v} for k, v in sorted_countries]\n",
    "    return result\n",
    "\n",
    "# Test\n",
    "print(most_common_countries())\n"
   ]
  },
  {
   "cell_type": "code",
   "execution_count": 5,
   "id": "7d0190a2",
   "metadata": {},
   "outputs": [
    {
     "name": "stdout",
     "output_type": "stream",
     "text": [
      "Failed to fetch data for country: IN\n",
      "[{'country': 'US', 'common_dates': 12}, {'country': 'CA', 'common_dates': 5}, {'country': 'CH', 'common_dates': 4}, {'country': 'ES', 'common_dates': 4}, {'country': 'GB', 'common_dates': 4}, {'country': 'BE', 'common_dates': 3}, {'country': 'BR', 'common_dates': 3}, {'country': 'CO', 'common_dates': 3}, {'country': 'DE', 'common_dates': 3}, {'country': 'DK', 'common_dates': 3}]\n"
     ]
    }
   ],
   "source": [
    "#Step 5 - Write a Python function that returns a list of dictionaries of the top 10 countries ranked by the number of upcoming holiday dates (in the next 364 days) they have in common with a given comparison country\n",
    "\n",
    "def fetch_holiday_data(country_code=\"US\", year=2023):\n",
    "    url = f\"https://date.nager.at/api/v3/publicholidays/{year}/{country_code}\"\n",
    "    response = requests.get(url)\n",
    "    if response.status_code != 200:\n",
    "        print(f\"Failed to fetch data for country: {country_code}\")\n",
    "        return []\n",
    "    try:\n",
    "        return response.json()\n",
    "    except JSONDecodeError:\n",
    "        print(f\"Failed to decode JSON for country: {country_code}\")\n",
    "        return []\n",
    "\n",
    "def most_common_countries(comparison_country=\"US\"):\n",
    "    current_year = datetime.now().year\n",
    "    comparison_holidays = fetch_holiday_data(country_code=comparison_country, year=current_year)\n",
    "    comparison_dates = {h[\"date\"] for h in comparison_holidays}\n",
    "\n",
    "    common_count = {}\n",
    "    countries = [\"AT\", \"BE\", \"BG\", \"BR\", \"CA\", \"CH\", \"CN\", \"CO\", \"CZ\", \"DE\", \"DK\", \"EE\", \"ES\", \"FI\", \"FR\", \"GB\", \"GR\", \"HR\", \"HU\", \"IE\", \"IN\", \"IT\", \"JP\", \"KR\", \"MX\", \"NL\", \"NO\", \"NZ\", \"PL\", \"PT\", \"RO\", \"RU\", \"SE\", \"SG\", \"SI\", \"SK\", \"ZA\", \"US\"]\n",
    "    for country in countries:\n",
    "        country_holidays = fetch_holiday_data(country_code=country, year=current_year)\n",
    "        common_dates = comparison_dates.intersection({h[\"date\"] for h in country_holidays if \"date\" in h})\n",
    "        common_count[country] = len(common_dates)\n",
    "\n",
    "    sorted_countries = sorted(common_count.items(), key=lambda x: x[1], reverse=True)[:10]\n",
    "    result = [{\"country\": k, \"common_dates\": v} for k, v in sorted_countries]\n",
    "    return result\n",
    "\n",
    "# Test\n",
    "print(most_common_countries())\n"
   ]
  },
  {
   "cell_type": "code",
   "execution_count": null,
   "id": "8d708298",
   "metadata": {},
   "outputs": [],
   "source": []
  }
 ],
 "metadata": {
  "kernelspec": {
   "display_name": "Python 3 (ipykernel)",
   "language": "python",
   "name": "python3"
  },
  "language_info": {
   "codemirror_mode": {
    "name": "ipython",
    "version": 3
   },
   "file_extension": ".py",
   "mimetype": "text/x-python",
   "name": "python",
   "nbconvert_exporter": "python",
   "pygments_lexer": "ipython3",
   "version": "3.10.9"
  }
 },
 "nbformat": 4,
 "nbformat_minor": 5
}
